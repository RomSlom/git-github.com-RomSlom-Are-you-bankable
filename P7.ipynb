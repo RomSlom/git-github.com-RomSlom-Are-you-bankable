{
 "cells": [
  {
   "cell_type": "code",
   "execution_count": null,
   "id": "0a42dc15-f164-44a4-9ee2-673de20a6639",
   "metadata": {},
   "outputs": [],
   "source": []
  }
 ],
 "metadata": {
  "kernelspec": {
   "display_name": "Python [conda env:pycaret_env]",
   "language": "python",
   "name": "conda-env-pycaret_env-py"
  },
  "language_info": {
   "codemirror_mode": {
    "name": "ipython",
    "version": 3
   },
   "file_extension": ".py",
   "mimetype": "text/x-python",
   "name": "python",
   "nbconvert_exporter": "python",
   "pygments_lexer": "ipython3",
   "version": "3.7.16"
  }
 },
 "nbformat": 4,
 "nbformat_minor": 5
}
